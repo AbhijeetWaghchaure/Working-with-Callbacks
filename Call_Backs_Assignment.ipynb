{
  "nbformat": 4,
  "nbformat_minor": 0,
  "metadata": {
    "colab": {
      "name": "Call_Backs_Assignment.ipynb",
      "provenance": [],
      "collapsed_sections": []
    },
    "kernelspec": {
      "display_name": "Python 3",
      "language": "python",
      "name": "python3"
    },
    "language_info": {
      "codemirror_mode": {
        "name": "ipython",
        "version": 3
      },
      "file_extension": ".py",
      "mimetype": "text/x-python",
      "name": "python",
      "nbconvert_exporter": "python",
      "pygments_lexer": "ipython3",
      "version": "3.6.3"
    }
  },
  "cells": [
    {
      "cell_type": "markdown",
      "metadata": {
        "id": "V2ZRzYGsCSnt"
      },
      "source": [
        "\n",
        "### 1. Download the data from <a href='https://drive.google.com/file/d/15dCNcmKskcFVjs7R0ElQkR61Ex53uJpM/view?usp=sharing'>here</a>. You have to use data.csv file for this assignment\n",
        "### 2. Code the model to classify data like below image. You can use any number of units in your Dense layers.\n",
        "\n",
        "<img src='https://i.imgur.com/33ptOFy.png'>\n",
        "\n"
      ]
    },
    {
      "cell_type": "markdown",
      "metadata": {
        "id": "bg22rD7sDPDu"
      },
      "source": [
        "# <font color='red'> <b>3. Writing Callbacks </b> </font>\n",
        "## You have to implement the following callbacks\n",
        "-  Write your own callback function, that has to print the micro F1 score and AUC score after each epoch.Do not use tf.keras.metrics for calculating AUC and F1 score.\n",
        "\n",
        "- Save your model at every epoch if your validation accuracy is improved from previous epoch. \n",
        "\n",
        "- You have to decay learning based on below conditions \n",
        "        Cond1. If your validation accuracy at that epoch is less than previous epoch accuracy, you have to decrese the\n",
        "               learning rate by 10%. \n",
        "        Cond2. For every 3rd epoch, decay your learning rate by 5%.\n",
        "        \n",
        "- If you are getting any NaN values(either weigths or loss) while training, you have to terminate your training. \n",
        "\n",
        "- You have to stop the training if your validation accuracy is not increased in last 2 epochs.\n",
        "\n",
        "- Use tensorboard for every model and analyse your scalar plots and histograms. (you need to upload the screenshots and write the observations for each model for evaluation)\n",
        "\n"
      ]
    },
    {
      "cell_type": "markdown",
      "metadata": {
        "id": "xCL3OGS0DsUa"
      },
      "source": [
        "<pre>\n",
        "<b>Model-1</b>\n",
        "<pre>\n",
        "1. Use tanh as an activation for every layer except output layer.\n",
        "2. use SGD with momentum as optimizer.\n",
        "3. use RandomUniform(0,1) as initilizer.\n",
        "3. Analyze your output and training process. \n",
        "</pre>\n",
        "</pre>"
      ]
    },
    {
      "cell_type": "markdown",
      "source": [
        "##Writing Callbacks"
      ],
      "metadata": {
        "id": "2zy75-FCPKhe"
      }
    },
    {
      "cell_type": "markdown",
      "source": [
        "##Write your own callback function, that has to print the micro F1 score and AUC score after each epoch.Do not use tf.keras.metrics for calculating AUC and F1 score."
      ],
      "metadata": {
        "id": "dQy35v8yPOLH"
      }
    },
    {
      "cell_type": "code",
      "metadata": {
        "id": "ZaRHRdEHDzOM",
        "colab": {
          "resources": {
            "http://localhost:8080/nbextensions/google.colab/files.js": {
              "data": "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",
              "ok": true,
              "headers": [
                [
                  "content-type",
                  "application/javascript"
                ]
              ],
              "status": 200,
              "status_text": ""
            }
          },
          "base_uri": "https://localhost:8080/",
          "height": 73
        },
        "outputId": "84f7af09-43fa-4640-8d4e-c97b27430b2d"
      },
      "source": [
        "from google.colab import files\n",
        "files=files.upload()"
      ],
      "execution_count": 1,
      "outputs": [
        {
          "output_type": "display_data",
          "data": {
            "text/html": [
              "\n",
              "     <input type=\"file\" id=\"files-53ad3ec9-2d17-4897-bc09-66f4a5eb1693\" name=\"files[]\" multiple disabled\n",
              "        style=\"border:none\" />\n",
              "     <output id=\"result-53ad3ec9-2d17-4897-bc09-66f4a5eb1693\">\n",
              "      Upload widget is only available when the cell has been executed in the\n",
              "      current browser session. Please rerun this cell to enable.\n",
              "      </output>\n",
              "      <script src=\"/nbextensions/google.colab/files.js\"></script> "
            ],
            "text/plain": [
              "<IPython.core.display.HTML object>"
            ]
          },
          "metadata": {}
        },
        {
          "output_type": "stream",
          "name": "stdout",
          "text": [
            "Saving data.csv to data.csv\n"
          ]
        }
      ]
    },
    {
      "cell_type": "code",
      "source": [
        "import pandas as pd\n",
        "import numpy as np\n",
        "from sklearn.model_selection import train_test_split\n",
        "from tensorflow.keras.layers import Dense,Input,Activation\n",
        "from tensorflow.keras.models import Model\n",
        "import random as rn\n",
        "import tensorflow as tf\n",
        "from sklearn.metrics import confusion_matrix, f1_score, precision_score, recall_score\n",
        "from tensorflow.keras.callbacks import ModelCheckpoint\n",
        "from tensorflow.keras.callbacks import EarlyStopping\n",
        "from tensorflow.keras.callbacks import LearningRateScheduler\n"
      ],
      "metadata": {
        "id": "lJ5sF-6aOz-a"
      },
      "execution_count": 26,
      "outputs": []
    },
    {
      "cell_type": "code",
      "metadata": {
        "id": "CSw5K9mrDzRq",
        "colab": {
          "base_uri": "https://localhost:8080/",
          "height": 206
        },
        "outputId": "2ef62d58-9f18-4354-a93c-30ead7898895"
      },
      "source": [
        "data=pd.read_csv(\"data.csv\")\n",
        "data.head()"
      ],
      "execution_count": 5,
      "outputs": [
        {
          "output_type": "execute_result",
          "data": {
            "text/html": [
              "\n",
              "  <div id=\"df-566eb607-d2e3-404a-af1b-a12615d30c98\">\n",
              "    <div class=\"colab-df-container\">\n",
              "      <div>\n",
              "<style scoped>\n",
              "    .dataframe tbody tr th:only-of-type {\n",
              "        vertical-align: middle;\n",
              "    }\n",
              "\n",
              "    .dataframe tbody tr th {\n",
              "        vertical-align: top;\n",
              "    }\n",
              "\n",
              "    .dataframe thead th {\n",
              "        text-align: right;\n",
              "    }\n",
              "</style>\n",
              "<table border=\"1\" class=\"dataframe\">\n",
              "  <thead>\n",
              "    <tr style=\"text-align: right;\">\n",
              "      <th></th>\n",
              "      <th>f1</th>\n",
              "      <th>f2</th>\n",
              "      <th>label</th>\n",
              "    </tr>\n",
              "  </thead>\n",
              "  <tbody>\n",
              "    <tr>\n",
              "      <th>0</th>\n",
              "      <td>0.450564</td>\n",
              "      <td>1.074305</td>\n",
              "      <td>0.0</td>\n",
              "    </tr>\n",
              "    <tr>\n",
              "      <th>1</th>\n",
              "      <td>0.085632</td>\n",
              "      <td>0.967682</td>\n",
              "      <td>0.0</td>\n",
              "    </tr>\n",
              "    <tr>\n",
              "      <th>2</th>\n",
              "      <td>0.117326</td>\n",
              "      <td>0.971521</td>\n",
              "      <td>1.0</td>\n",
              "    </tr>\n",
              "    <tr>\n",
              "      <th>3</th>\n",
              "      <td>0.982179</td>\n",
              "      <td>-0.380408</td>\n",
              "      <td>0.0</td>\n",
              "    </tr>\n",
              "    <tr>\n",
              "      <th>4</th>\n",
              "      <td>-0.720352</td>\n",
              "      <td>0.955850</td>\n",
              "      <td>0.0</td>\n",
              "    </tr>\n",
              "  </tbody>\n",
              "</table>\n",
              "</div>\n",
              "      <button class=\"colab-df-convert\" onclick=\"convertToInteractive('df-566eb607-d2e3-404a-af1b-a12615d30c98')\"\n",
              "              title=\"Convert this dataframe to an interactive table.\"\n",
              "              style=\"display:none;\">\n",
              "        \n",
              "  <svg xmlns=\"http://www.w3.org/2000/svg\" height=\"24px\"viewBox=\"0 0 24 24\"\n",
              "       width=\"24px\">\n",
              "    <path d=\"M0 0h24v24H0V0z\" fill=\"none\"/>\n",
              "    <path d=\"M18.56 5.44l.94 2.06.94-2.06 2.06-.94-2.06-.94-.94-2.06-.94 2.06-2.06.94zm-11 1L8.5 8.5l.94-2.06 2.06-.94-2.06-.94L8.5 2.5l-.94 2.06-2.06.94zm10 10l.94 2.06.94-2.06 2.06-.94-2.06-.94-.94-2.06-.94 2.06-2.06.94z\"/><path d=\"M17.41 7.96l-1.37-1.37c-.4-.4-.92-.59-1.43-.59-.52 0-1.04.2-1.43.59L10.3 9.45l-7.72 7.72c-.78.78-.78 2.05 0 2.83L4 21.41c.39.39.9.59 1.41.59.51 0 1.02-.2 1.41-.59l7.78-7.78 2.81-2.81c.8-.78.8-2.07 0-2.86zM5.41 20L4 18.59l7.72-7.72 1.47 1.35L5.41 20z\"/>\n",
              "  </svg>\n",
              "      </button>\n",
              "      \n",
              "  <style>\n",
              "    .colab-df-container {\n",
              "      display:flex;\n",
              "      flex-wrap:wrap;\n",
              "      gap: 12px;\n",
              "    }\n",
              "\n",
              "    .colab-df-convert {\n",
              "      background-color: #E8F0FE;\n",
              "      border: none;\n",
              "      border-radius: 50%;\n",
              "      cursor: pointer;\n",
              "      display: none;\n",
              "      fill: #1967D2;\n",
              "      height: 32px;\n",
              "      padding: 0 0 0 0;\n",
              "      width: 32px;\n",
              "    }\n",
              "\n",
              "    .colab-df-convert:hover {\n",
              "      background-color: #E2EBFA;\n",
              "      box-shadow: 0px 1px 2px rgba(60, 64, 67, 0.3), 0px 1px 3px 1px rgba(60, 64, 67, 0.15);\n",
              "      fill: #174EA6;\n",
              "    }\n",
              "\n",
              "    [theme=dark] .colab-df-convert {\n",
              "      background-color: #3B4455;\n",
              "      fill: #D2E3FC;\n",
              "    }\n",
              "\n",
              "    [theme=dark] .colab-df-convert:hover {\n",
              "      background-color: #434B5C;\n",
              "      box-shadow: 0px 1px 3px 1px rgba(0, 0, 0, 0.15);\n",
              "      filter: drop-shadow(0px 1px 2px rgba(0, 0, 0, 0.3));\n",
              "      fill: #FFFFFF;\n",
              "    }\n",
              "  </style>\n",
              "\n",
              "      <script>\n",
              "        const buttonEl =\n",
              "          document.querySelector('#df-566eb607-d2e3-404a-af1b-a12615d30c98 button.colab-df-convert');\n",
              "        buttonEl.style.display =\n",
              "          google.colab.kernel.accessAllowed ? 'block' : 'none';\n",
              "\n",
              "        async function convertToInteractive(key) {\n",
              "          const element = document.querySelector('#df-566eb607-d2e3-404a-af1b-a12615d30c98');\n",
              "          const dataTable =\n",
              "            await google.colab.kernel.invokeFunction('convertToInteractive',\n",
              "                                                     [key], {});\n",
              "          if (!dataTable) return;\n",
              "\n",
              "          const docLinkHtml = 'Like what you see? Visit the ' +\n",
              "            '<a target=\"_blank\" href=https://colab.research.google.com/notebooks/data_table.ipynb>data table notebook</a>'\n",
              "            + ' to learn more about interactive tables.';\n",
              "          element.innerHTML = '';\n",
              "          dataTable['output_type'] = 'display_data';\n",
              "          await google.colab.output.renderOutput(dataTable, element);\n",
              "          const docLink = document.createElement('div');\n",
              "          docLink.innerHTML = docLinkHtml;\n",
              "          element.appendChild(docLink);\n",
              "        }\n",
              "      </script>\n",
              "    </div>\n",
              "  </div>\n",
              "  "
            ],
            "text/plain": [
              "         f1        f2  label\n",
              "0  0.450564  1.074305    0.0\n",
              "1  0.085632  0.967682    0.0\n",
              "2  0.117326  0.971521    1.0\n",
              "3  0.982179 -0.380408    0.0\n",
              "4 -0.720352  0.955850    0.0"
            ]
          },
          "metadata": {},
          "execution_count": 5
        }
      ]
    },
    {
      "cell_type": "code",
      "source": [
        "X = data.drop(['label'], axis=1).values\n",
        "Y = data['label'].values\n",
        "\n",
        "X_train, X_test, y_train, y_test = train_test_split(X, Y, test_size=0.33, stratify=Y) \n",
        "#X_train, X_cv, y_train, y_cv = train_test_split(X_train, y_train, test_size=0.33, stratify=y_train)\n",
        "print(X_train.shape)\n",
        "print(y_train.shape)\n",
        "print(X_test.shape)\n",
        "print(y_test.shape)"
      ],
      "metadata": {
        "colab": {
          "base_uri": "https://localhost:8080/"
        },
        "id": "7y9niFMZO_Sy",
        "outputId": "67f62cf0-1f8f-4902-cf0a-9bab73f60463"
      },
      "execution_count": 7,
      "outputs": [
        {
          "output_type": "stream",
          "name": "stdout",
          "text": [
            "(13400, 2)\n",
            "(13400,)\n",
            "(6600, 2)\n",
            "(6600,)\n"
          ]
        }
      ]
    },
    {
      "cell_type": "code",
      "source": [
        "class Metrics(tf.keras.callbacks.Callback):\n",
        "\n",
        "   def on_train_begin(self, logs={}):\n",
        "     self.val_f1s = []\n",
        "     \n",
        "   def on_epoch_end(self, epoch, logs={}):\n",
        "     #val_predict = (np.asarray(self.model.predict(self.model.validation_data[0]))).round()\n",
        "     val_predict = (np.asarray(self.model.predict(X_test))).round()\n",
        "     #val_targ = self.model.validation_data[1]\n",
        "     _val_f1 = f1_score(y_test, val_predict,average='micro') \n",
        "     self.val_f1s.append(_val_f1)\n",
        "     #print(\" value f1 \",_val_f1)\n",
        "     print(\"  f1_score: \"+\"{:.4f}\".format(_val_f1)); \n",
        "     return\n",
        "\n",
        "history_own=Metrics()\n",
        "#print(history_own.val_f1s)"
      ],
      "metadata": {
        "id": "SmOkLI7kO_Ur"
      },
      "execution_count": 12,
      "outputs": []
    },
    {
      "cell_type": "code",
      "source": [
        "#Input layer\n",
        "input_layer = Input(shape=(2,))\n",
        "\n",
        "#Dense hidden layer\n",
        "layer1 = Dense(5,activation='tanh',kernel_initializer=tf.keras.initializers.RandomUniform(0,1))(input_layer)\n",
        "\n",
        "#output layer\n",
        "output = Dense(1,activation='sigmoid',kernel_initializer=tf.keras.initializers.RandomUniform(0,1))(layer1)\n",
        "\n",
        "#Model Creation\n",
        "model = Model(inputs=input_layer,outputs=output)\n",
        "\n",
        "#Now Callbacks:\n",
        "#history_own = LossHistory()\n",
        "history_own  = Metrics()\n",
        "\n",
        "optimizer = tf.keras.optimizers.SGD(learning_rate=0.01, momentum=0.0, nesterov=False, name=\"SGD\")\n",
        "\n",
        "model.compile(optimizer=optimizer, loss='BinaryCrossentropy',metrics=['AUC'])\n",
        "\n",
        "model.fit(X_train,y_train,epochs=5, validation_data=(X_test,y_test), batch_size=20, callbacks=[history_own])"
      ],
      "metadata": {
        "colab": {
          "base_uri": "https://localhost:8080/"
        },
        "id": "JvNP8SLQO_YJ",
        "outputId": "24acd2e1-05d5-42be-a399-4dd7a896144d"
      },
      "execution_count": 13,
      "outputs": [
        {
          "output_type": "stream",
          "name": "stdout",
          "text": [
            "Epoch 1/5\n",
            "663/670 [============================>.] - ETA: 0s - loss: 0.7015 - auc: 0.5003  f1_score: 0.5077\n",
            "670/670 [==============================] - 2s 3ms/step - loss: 0.7014 - auc: 0.5003 - val_loss: 0.6958 - val_auc: 0.4914\n",
            "Epoch 2/5\n",
            "657/670 [============================>.] - ETA: 0s - loss: 0.6934 - auc: 0.5126  f1_score: 0.4861\n",
            "670/670 [==============================] - 2s 2ms/step - loss: 0.6934 - auc: 0.5134 - val_loss: 0.6935 - val_auc: 0.4972\n",
            "Epoch 3/5\n",
            "654/670 [============================>.] - ETA: 0s - loss: 0.6928 - auc: 0.5142  f1_score: 0.5014\n",
            "670/670 [==============================] - 2s 3ms/step - loss: 0.6928 - auc: 0.5143 - val_loss: 0.6929 - val_auc: 0.5116\n",
            "Epoch 4/5\n",
            "654/670 [============================>.] - ETA: 0s - loss: 0.6925 - auc: 0.5247  f1_score: 0.5076\n",
            "670/670 [==============================] - 3s 4ms/step - loss: 0.6925 - auc: 0.5254 - val_loss: 0.6927 - val_auc: 0.5230\n",
            "Epoch 5/5\n",
            "669/670 [============================>.] - ETA: 0s - loss: 0.6923 - auc: 0.5311  f1_score: 0.5209\n",
            "670/670 [==============================] - 2s 4ms/step - loss: 0.6923 - auc: 0.5309 - val_loss: 0.6924 - val_auc: 0.5329\n"
          ]
        },
        {
          "output_type": "execute_result",
          "data": {
            "text/plain": [
              "<keras.callbacks.History at 0x7fad0fe31390>"
            ]
          },
          "metadata": {},
          "execution_count": 13
        }
      ]
    },
    {
      "cell_type": "code",
      "source": [
        "history_own.val_f1s"
      ],
      "metadata": {
        "colab": {
          "base_uri": "https://localhost:8080/"
        },
        "id": "nv_lvL0rO_fR",
        "outputId": "0abba808-b2fb-483d-b8b4-11fbeaa2a717"
      },
      "execution_count": 14,
      "outputs": [
        {
          "output_type": "execute_result",
          "data": {
            "text/plain": [
              "[0.5077272727272727,\n",
              " 0.4860606060606061,\n",
              " 0.5013636363636363,\n",
              " 0.5075757575757576,\n",
              " 0.5209090909090909]"
            ]
          },
          "metadata": {},
          "execution_count": 14
        }
      ]
    },
    {
      "cell_type": "code",
      "source": [
        "#If you are getting any NaN values(either weigths or loss) while training, you have to terminate your training.\n",
        "class TerminateNaN(tf.keras.callbacks.Callback):\n",
        "        \n",
        "    def on_epoch_end(self, epoch, logs={}):\n",
        "        loss = logs.get('loss')\n",
        "        if loss is not None:\n",
        "            if np.isnan(loss) or np.isinf(loss):\n",
        "                print(\"Invalid loss and terminated at epoch {}\".format(epoch))\n",
        "                self.model.stop_training = True\n"
      ],
      "metadata": {
        "id": "wGRTTDl7O_hY"
      },
      "execution_count": 15,
      "outputs": []
    },
    {
      "cell_type": "code",
      "source": [
        "terminate= TerminateNaN()\n",
        "model.fit(X_train,y_train,epochs=5,validation_data=(X_test,y_test),batch_size=20,callbacks=[terminate])"
      ],
      "metadata": {
        "colab": {
          "base_uri": "https://localhost:8080/"
        },
        "id": "5Jf9MLQmO_k7",
        "outputId": "d92351b1-8a18-46bd-a039-4113d220e168"
      },
      "execution_count": 16,
      "outputs": [
        {
          "output_type": "stream",
          "name": "stdout",
          "text": [
            "Epoch 1/5\n",
            "670/670 [==============================] - 2s 3ms/step - loss: 0.6921 - auc: 0.5437 - val_loss: 0.6922 - val_auc: 0.5359\n",
            "Epoch 2/5\n",
            "670/670 [==============================] - 2s 3ms/step - loss: 0.6918 - auc: 0.5506 - val_loss: 0.6921 - val_auc: 0.5419\n",
            "Epoch 3/5\n",
            "670/670 [==============================] - 2s 3ms/step - loss: 0.6915 - auc: 0.5587 - val_loss: 0.6919 - val_auc: 0.5388\n",
            "Epoch 4/5\n",
            "670/670 [==============================] - 2s 3ms/step - loss: 0.6912 - auc: 0.5590 - val_loss: 0.6915 - val_auc: 0.5490\n",
            "Epoch 5/5\n",
            "670/670 [==============================] - 3s 4ms/step - loss: 0.6909 - auc: 0.5636 - val_loss: 0.6910 - val_auc: 0.5618\n"
          ]
        },
        {
          "output_type": "execute_result",
          "data": {
            "text/plain": [
              "<keras.callbacks.History at 0x7fad0de8ca50>"
            ]
          },
          "metadata": {},
          "execution_count": 16
        }
      ]
    },
    {
      "cell_type": "code",
      "source": [
        "#Save your model at every epoch if your validation accuracy is improved from previous epoch.\n",
        "\n",
        "#Input layer\n",
        "input_layer = Input(shape=(2,))\n",
        "#Dense hidden layer\n",
        "layer1 = Dense(5,activation='tanh',kernel_initializer=tf.keras.initializers.RandomUniform(0,1))(input_layer)\n",
        "#output layer\n",
        "output = Dense(1,activation='sigmoid',kernel_initializer=tf.keras.initializers.RandomUniform(0,1))(layer1)\n",
        "#Creating a model\n",
        "model = Model(inputs=input_layer,outputs=output)\n",
        "\n",
        "#Callbacks\n",
        "#file path, it saves the model in the 'model_save' folder and we are naming model with epoch number \n",
        "#and val auc to differtiate with other models\n",
        "#you have to create model_save folder before running the code.\n",
        "\n",
        "filepath=\"D:\\Applied AI Course\\Assignments\\20. Assignment- Working with Callbacks\\model_save5\"\n",
        "checkpoint = ModelCheckpoint(filepath=filepath, monitor='val_auc',  verbose=1, save_best_only=True, mode='max')\n",
        "\n",
        "optimizer = tf.keras.optimizers.SGD(learning_rate=0.01, momentum=0.0, nesterov=False, name=\"SGD\")\n",
        "\n",
        "model.compile(optimizer=optimizer, loss='BinaryCrossentropy',metrics=['AUC'])\n",
        "\n",
        "model.fit(X_train,y_train,epochs=5,validation_data=(X_test,y_test),batch_size=20,callbacks=[checkpoint])"
      ],
      "metadata": {
        "colab": {
          "base_uri": "https://localhost:8080/"
        },
        "id": "FuQ99_SHRwg9",
        "outputId": "7fef6159-a4c5-4bf3-e7f1-e34fd95b74d4"
      },
      "execution_count": 21,
      "outputs": [
        {
          "output_type": "stream",
          "name": "stdout",
          "text": [
            "Epoch 1/5\n",
            "668/670 [============================>.] - ETA: 0s - loss: 0.7350 - auc: 0.4993\n",
            "Epoch 00001: val_auc improved from -inf to 0.49661, saving model to D:\\Applied AI Course\\Assignments\u0010. Assignment- Working with Callbacks\\model_save5\n",
            "INFO:tensorflow:Assets written to: D:\\Applied AI Course\\Assignments\u0010. Assignment- Working with Callbacks\\model_save5/assets\n",
            "670/670 [==============================] - 3s 3ms/step - loss: 0.7349 - auc: 0.4995 - val_loss: 0.6966 - val_auc: 0.4966\n",
            "Epoch 2/5\n",
            "652/670 [============================>.] - ETA: 0s - loss: 0.6935 - auc: 0.5020\n",
            "Epoch 00002: val_auc improved from 0.49661 to 0.53466, saving model to D:\\Applied AI Course\\Assignments\u0010. Assignment- Working with Callbacks\\model_save5\n",
            "INFO:tensorflow:Assets written to: D:\\Applied AI Course\\Assignments\u0010. Assignment- Working with Callbacks\\model_save5/assets\n",
            "670/670 [==============================] - 2s 3ms/step - loss: 0.6935 - auc: 0.5024 - val_loss: 0.6925 - val_auc: 0.5347\n",
            "Epoch 3/5\n",
            "647/670 [===========================>..] - ETA: 0s - loss: 0.6921 - auc: 0.5388\n",
            "Epoch 00003: val_auc improved from 0.53466 to 0.55845, saving model to D:\\Applied AI Course\\Assignments\u0010. Assignment- Working with Callbacks\\model_save5\n",
            "INFO:tensorflow:Assets written to: D:\\Applied AI Course\\Assignments\u0010. Assignment- Working with Callbacks\\model_save5/assets\n",
            "670/670 [==============================] - 2s 3ms/step - loss: 0.6921 - auc: 0.5404 - val_loss: 0.6919 - val_auc: 0.5585\n",
            "Epoch 4/5\n",
            "651/670 [============================>.] - ETA: 0s - loss: 0.6916 - auc: 0.5630\n",
            "Epoch 00004: val_auc improved from 0.55845 to 0.57388, saving model to D:\\Applied AI Course\\Assignments\u0010. Assignment- Working with Callbacks\\model_save5\n",
            "INFO:tensorflow:Assets written to: D:\\Applied AI Course\\Assignments\u0010. Assignment- Working with Callbacks\\model_save5/assets\n",
            "670/670 [==============================] - 2s 3ms/step - loss: 0.6916 - auc: 0.5631 - val_loss: 0.6913 - val_auc: 0.5739\n",
            "Epoch 5/5\n",
            "658/670 [============================>.] - ETA: 0s - loss: 0.6910 - auc: 0.5807\n",
            "Epoch 00005: val_auc improved from 0.57388 to 0.59294, saving model to D:\\Applied AI Course\\Assignments\u0010. Assignment- Working with Callbacks\\model_save5\n",
            "INFO:tensorflow:Assets written to: D:\\Applied AI Course\\Assignments\u0010. Assignment- Working with Callbacks\\model_save5/assets\n",
            "670/670 [==============================] - 2s 3ms/step - loss: 0.6910 - auc: 0.5805 - val_loss: 0.6907 - val_auc: 0.5929\n"
          ]
        },
        {
          "output_type": "execute_result",
          "data": {
            "text/plain": [
              "<keras.callbacks.History at 0x7fad0de8e450>"
            ]
          },
          "metadata": {},
          "execution_count": 21
        }
      ]
    },
    {
      "cell_type": "code",
      "source": [
        "#You have to stop the training if your validation accuracy is not increased in last 2 epochs.\n",
        "\n",
        "#Input layer\n",
        "input_layer = Input(shape=(2,))\n",
        "#Dense hidden layer\n",
        "layer1 = Dense(5,activation='tanh',kernel_initializer=tf.keras.initializers.RandomUniform(0,1))(input_layer)\n",
        "#output layer\n",
        "output = Dense(1,activation='sigmoid',kernel_initializer=tf.keras.initializers.RandomUniform(0,1))(layer1)\n",
        "#Creating a model\n",
        "model = Model(inputs=input_layer,outputs=output)\n",
        "\n",
        "earlystop = EarlyStopping(monitor='val_auc', patience=2, verbose=1, mode='max')\n",
        "\n",
        "\n",
        "optimizer = tf.keras.optimizers.SGD(learning_rate=0.01, momentum=0.0, nesterov=False, name=\"SGD\")\n",
        "\n",
        "model.compile(optimizer=optimizer, loss='BinaryCrossentropy',metrics=['AUC'])\n",
        "\n",
        "\n",
        "model.fit(X_train,y_train,epochs=5,validation_data=(X_test,y_test),batch_size=20,callbacks=[earlystop])"
      ],
      "metadata": {
        "colab": {
          "base_uri": "https://localhost:8080/"
        },
        "id": "XGxVmuuPRwjB",
        "outputId": "be30cb01-d0bc-4ed2-c33b-02a021ce521c"
      },
      "execution_count": 25,
      "outputs": [
        {
          "output_type": "stream",
          "name": "stdout",
          "text": [
            "Epoch 1/5\n",
            "670/670 [==============================] - 2s 2ms/step - loss: 0.7426 - auc: 0.4988 - val_loss: 0.7068 - val_auc: 0.4982\n",
            "Epoch 2/5\n",
            "670/670 [==============================] - 2s 2ms/step - loss: 0.6992 - auc: 0.5014 - val_loss: 0.6962 - val_auc: 0.4979\n",
            "Epoch 3/5\n",
            "670/670 [==============================] - 1s 2ms/step - loss: 0.6941 - auc: 0.5083 - val_loss: 0.6941 - val_auc: 0.4978\n",
            "Epoch 00003: early stopping\n"
          ]
        },
        {
          "output_type": "execute_result",
          "data": {
            "text/plain": [
              "<keras.callbacks.History at 0x7fad0d5e3f90>"
            ]
          },
          "metadata": {},
          "execution_count": 25
        }
      ]
    },
    {
      "cell_type": "code",
      "source": [
        "#You have to decay learning rate on the basis of following conditions:\n",
        "\n",
        "#Cond1. If your validation accuracy at that epoch is less than previous epoch accuracy, you have to decrese the learning rate by 10%. \n",
        "#Cond2. For every 3rd epoch, decay your learning rate by 5%.\n",
        "\n",
        "def changeLearningRate(epoch):\n",
        "    initial_learningrate=0.01\n",
        "    if epoch % 3 ==0:\n",
        "      changed = initial_learningrate*(1-0.05)**epoch\n",
        "    else:\n",
        "      changed = initial_learningrate*(1-0.1)**epoch\n",
        "    return changed\n",
        "\n",
        "changed_lr = []\n",
        "for i in range(1,10):\n",
        "  changed_lr.append(changeLearningRate(i))\n",
        "\n",
        "#Input layer\n",
        "input_layer = Input(shape=(2,))\n",
        "#Dense hidden layer\n",
        "layer1 = Dense(5,activation='tanh',kernel_initializer=tf.keras.initializers.RandomUniform(0,1))(input_layer)\n",
        "#output layer\n",
        "output = Dense(1,activation='sigmoid',kernel_initializer=tf.keras.initializers.RandomUniform(0,1))(layer1)\n",
        "#Creating a model\n",
        "model = Model(inputs=input_layer,outputs=output)\n",
        "\n",
        "lrschedule = LearningRateScheduler(changeLearningRate, verbose=0.1)\n",
        "filepath=\"model_save/weights-{epoch:02d}-{val_auc:.4f}.hdf5\"\n",
        "checkpoint = ModelCheckpoint(filepath=filepath, monitor='val_auc',  verbose=1, save_best_only=True, mode='max')\n",
        "earlystop = EarlyStopping(monitor='val_auc', patience=2, verbose=1, mode='max')\n",
        "\n",
        "# here we are creating a list with all the callbacks we want\n",
        "callback_list = [history_own,lrschedule, earlystop, checkpoint,terminate]\n",
        "\n",
        "optimizer = tf.keras.optimizers.SGD(learning_rate=0.01, momentum=0.0, nesterov=False, name=\"SGD\")\n",
        "\n",
        "model.compile(optimizer=optimizer, loss='BinaryCrossentropy',metrics=['AUC'])\n",
        "\n",
        "\n",
        "model.fit(X_train,y_train,epochs=20,validation_data=(X_test,y_test),batch_size=20,callbacks=[callback_list])"
      ],
      "metadata": {
        "colab": {
          "base_uri": "https://localhost:8080/"
        },
        "id": "_XXQWI0xRwkp",
        "outputId": "aab5486f-d080-49e5-f8b9-1173896a5854"
      },
      "execution_count": 27,
      "outputs": [
        {
          "output_type": "stream",
          "name": "stdout",
          "text": [
            "\n",
            "Epoch 00001: LearningRateScheduler setting learning rate to 0.01.\n",
            "Epoch 1/20\n",
            "668/670 [============================>.] - ETA: 0s - loss: 0.7179 - auc: 0.5021  f1_score: 0.5023\n",
            "\n",
            "Epoch 00001: val_auc improved from -inf to 0.50129, saving model to model_save/weights-01-0.5013.hdf5\n",
            "670/670 [==============================] - 2s 3ms/step - loss: 0.7179 - auc: 0.5019 - val_loss: 0.6962 - val_auc: 0.5013 - lr: 0.0100\n",
            "\n",
            "Epoch 00002: LearningRateScheduler setting learning rate to 0.009000000000000001.\n",
            "Epoch 2/20\n",
            "664/670 [============================>.] - ETA: 0s - loss: 0.6930 - auc: 0.5212  f1_score: 0.5136\n",
            "\n",
            "Epoch 00002: val_auc improved from 0.50129 to 0.52587, saving model to model_save/weights-02-0.5259.hdf5\n",
            "670/670 [==============================] - 2s 3ms/step - loss: 0.6929 - auc: 0.5218 - val_loss: 0.6928 - val_auc: 0.5259 - lr: 0.0090\n",
            "\n",
            "Epoch 00003: LearningRateScheduler setting learning rate to 0.008100000000000001.\n",
            "Epoch 3/20\n",
            "653/670 [============================>.] - ETA: 0s - loss: 0.6915 - auc: 0.5507  f1_score: 0.5650\n",
            "\n",
            "Epoch 00003: val_auc improved from 0.52587 to 0.56857, saving model to model_save/weights-03-0.5686.hdf5\n",
            "670/670 [==============================] - 2s 3ms/step - loss: 0.6914 - auc: 0.5513 - val_loss: 0.6914 - val_auc: 0.5686 - lr: 0.0081\n",
            "\n",
            "Epoch 00004: LearningRateScheduler setting learning rate to 0.00857375.\n",
            "Epoch 4/20\n",
            "637/670 [===========================>..] - ETA: 0s - loss: 0.6905 - auc: 0.5777  f1_score: 0.5856\n",
            "\n",
            "Epoch 00004: val_auc improved from 0.56857 to 0.60840, saving model to model_save/weights-04-0.6084.hdf5\n",
            "670/670 [==============================] - 2s 3ms/step - loss: 0.6905 - auc: 0.5775 - val_loss: 0.6903 - val_auc: 0.6084 - lr: 0.0086\n",
            "\n",
            "Epoch 00005: LearningRateScheduler setting learning rate to 0.006561.\n",
            "Epoch 5/20\n",
            "648/670 [============================>.] - ETA: 0s - loss: 0.6898 - auc: 0.6032  f1_score: 0.6135\n",
            "\n",
            "Epoch 00005: val_auc improved from 0.60840 to 0.62230, saving model to model_save/weights-05-0.6223.hdf5\n",
            "670/670 [==============================] - 2s 2ms/step - loss: 0.6898 - auc: 0.6025 - val_loss: 0.6896 - val_auc: 0.6223 - lr: 0.0066\n",
            "\n",
            "Epoch 00006: LearningRateScheduler setting learning rate to 0.005904900000000001.\n",
            "Epoch 6/20\n",
            "639/670 [===========================>..] - ETA: 0s - loss: 0.6893 - auc: 0.6111  f1_score: 0.6138\n",
            "\n",
            "Epoch 00006: val_auc did not improve from 0.62230\n",
            "670/670 [==============================] - 2s 3ms/step - loss: 0.6893 - auc: 0.6130 - val_loss: 0.6890 - val_auc: 0.6222 - lr: 0.0059\n",
            "\n",
            "Epoch 00007: LearningRateScheduler setting learning rate to 0.007350918906249998.\n",
            "Epoch 7/20\n",
            "669/670 [============================>.] - ETA: 0s - loss: 0.6886 - auc: 0.6073  f1_score: 0.5988\n",
            "\n",
            "Epoch 00007: val_auc did not improve from 0.62230\n",
            "670/670 [==============================] - 2s 3ms/step - loss: 0.6886 - auc: 0.6073 - val_loss: 0.6883 - val_auc: 0.6190 - lr: 0.0074\n",
            "Epoch 00007: early stopping\n"
          ]
        },
        {
          "output_type": "execute_result",
          "data": {
            "text/plain": [
              "<keras.callbacks.History at 0x7fad0eb40190>"
            ]
          },
          "metadata": {},
          "execution_count": 27
        }
      ]
    },
    {
      "cell_type": "markdown",
      "source": [
        "***Model 1 Observations:***\n",
        "\n",
        "1.   Epoch No. 6 given Maximum F1 Score: 0.6138 & val_auc= 0.6222\n",
        "2.   Initially, val_auc increases gradually, after Epoch number 5 val_auc is not increasing\n",
        "3.   As Epoch number increases, val_loss decreases\n",
        "\n",
        "\n",
        "\n",
        "\n",
        "\n",
        "\n",
        "\n",
        "\n",
        "\n"
      ],
      "metadata": {
        "id": "jqT2VgcoWatR"
      }
    },
    {
      "cell_type": "markdown",
      "metadata": {
        "id": "CRpsCx3NEAtx"
      },
      "source": [
        "<pre>\n",
        "<b>Model-2</b>\n",
        "<pre>\n",
        "1. Use relu as an activation for every layer except output layer.\n",
        "2. use SGD with momentum as optimizer.\n",
        "3. use RandomUniform(0,1) as initilizer.\n",
        "3. Analyze your output and training process. \n",
        "</pre>\n",
        "</pre>"
      ]
    },
    {
      "cell_type": "code",
      "metadata": {
        "id": "btKuy2SWEFZo",
        "colab": {
          "base_uri": "https://localhost:8080/"
        },
        "outputId": "a025a4fc-2614-4e6d-e82e-0f6a9e0e906e"
      },
      "source": [
        "#Input layer\n",
        "input_layer = Input(shape=(2,))\n",
        "#Dense hidden layer\n",
        "layer1 = Dense(5,activation='relu',kernel_initializer=tf.keras.initializers.RandomUniform(0,1))(input_layer)\n",
        "#output layer\n",
        "output = Dense(1,activation='sigmoid',kernel_initializer=tf.keras.initializers.RandomUniform(0,1))(layer1)\n",
        "#Creating a model\n",
        "model = Model(inputs=input_layer,outputs=output)\n",
        "\n",
        "lrschedule = LearningRateScheduler(changeLearningRate, verbose=0.1)\n",
        "filepath=\"D:\\Applied AI Course\\Assignments\\20. Assignment- Working with Callbacks\\model_save\"\n",
        "checkpoint = ModelCheckpoint(filepath=filepath, monitor='val_auc',  verbose=1, save_best_only=True, mode='max')\n",
        "earlystop = EarlyStopping(monitor='val_auc', patience=2, verbose=1, mode='max')\n",
        "\n",
        "# here we are creating a list with all the callbacks we want\n",
        "callback_list = [history_own,lrschedule, earlystop, checkpoint,terminate]\n",
        "\n",
        "optimizer = tf.keras.optimizers.SGD(learning_rate=0.01, momentum=0.0, nesterov=False, name=\"SGD\")\n",
        "\n",
        "model.compile(optimizer=optimizer, loss='BinaryCrossentropy',metrics=['AUC'])\n",
        "\n",
        "\n",
        "model.fit(X_train,y_train,epochs=20,validation_data=(X_test,y_test),batch_size=20,callbacks=[callback_list])"
      ],
      "execution_count": 30,
      "outputs": [
        {
          "output_type": "stream",
          "name": "stdout",
          "text": [
            "\n",
            "Epoch 00001: LearningRateScheduler setting learning rate to 0.01.\n",
            "Epoch 1/20\n",
            "664/670 [============================>.] - ETA: 0s - loss: 0.7053 - auc: 0.4446  f1_score: 0.4689\n",
            "\n",
            "Epoch 00001: val_auc improved from -inf to 0.39784, saving model to D:\\Applied AI Course\\Assignments\u0010. Assignment- Working with Callbacks\\model_save\n",
            "INFO:tensorflow:Assets written to: D:\\Applied AI Course\\Assignments\u0010. Assignment- Working with Callbacks\\model_save/assets\n",
            "670/670 [==============================] - 3s 4ms/step - loss: 0.7053 - auc: 0.4441 - val_loss: 0.6961 - val_auc: 0.3978 - lr: 0.0100\n",
            "\n",
            "Epoch 00002: LearningRateScheduler setting learning rate to 0.009000000000000001.\n",
            "Epoch 2/20\n",
            "659/670 [============================>.] - ETA: 0s - loss: 0.6941 - auc: 0.4696  f1_score: 0.4802\n",
            "\n",
            "Epoch 00002: val_auc improved from 0.39784 to 0.51278, saving model to D:\\Applied AI Course\\Assignments\u0010. Assignment- Working with Callbacks\\model_save\n",
            "INFO:tensorflow:Assets written to: D:\\Applied AI Course\\Assignments\u0010. Assignment- Working with Callbacks\\model_save/assets\n",
            "670/670 [==============================] - 2s 4ms/step - loss: 0.6940 - auc: 0.4712 - val_loss: 0.6924 - val_auc: 0.5128 - lr: 0.0090\n",
            "\n",
            "Epoch 00003: LearningRateScheduler setting learning rate to 0.008100000000000001.\n",
            "Epoch 3/20\n",
            "639/670 [===========================>..] - ETA: 0s - loss: 0.6921 - auc: 0.5174  f1_score: 0.5171\n",
            "\n",
            "Epoch 00003: val_auc improved from 0.51278 to 0.53137, saving model to D:\\Applied AI Course\\Assignments\u0010. Assignment- Working with Callbacks\\model_save\n",
            "INFO:tensorflow:Assets written to: D:\\Applied AI Course\\Assignments\u0010. Assignment- Working with Callbacks\\model_save/assets\n",
            "670/670 [==============================] - 2s 3ms/step - loss: 0.6921 - auc: 0.5193 - val_loss: 0.6912 - val_auc: 0.5314 - lr: 0.0081\n",
            "\n",
            "Epoch 00004: LearningRateScheduler setting learning rate to 0.00857375.\n",
            "Epoch 4/20\n",
            "649/670 [============================>.] - ETA: 0s - loss: 0.6913 - auc: 0.5228  f1_score: 0.5206\n",
            "\n",
            "Epoch 00004: val_auc did not improve from 0.53137\n",
            "670/670 [==============================] - 2s 3ms/step - loss: 0.6914 - auc: 0.5213 - val_loss: 0.6905 - val_auc: 0.5302 - lr: 0.0086\n",
            "\n",
            "Epoch 00005: LearningRateScheduler setting learning rate to 0.006561.\n",
            "Epoch 5/20\n",
            "667/670 [============================>.] - ETA: 0s - loss: 0.6911 - auc: 0.5223  f1_score: 0.5215\n",
            "\n",
            "Epoch 00005: val_auc did not improve from 0.53137\n",
            "670/670 [==============================] - 2s 3ms/step - loss: 0.6910 - auc: 0.5232 - val_loss: 0.6901 - val_auc: 0.5290 - lr: 0.0066\n",
            "Epoch 00005: early stopping\n"
          ]
        },
        {
          "output_type": "execute_result",
          "data": {
            "text/plain": [
              "<keras.callbacks.History at 0x7fad0dee6b10>"
            ]
          },
          "metadata": {},
          "execution_count": 30
        }
      ]
    },
    {
      "cell_type": "markdown",
      "source": [
        "***Model 2 Observations:***\n",
        "\n",
        "1.   Epoch No. 5 given Maximum F1 Score: 0.5215 & val_auc= 0.5290\n",
        "2.   Initially, val_auc increases gradually, after Epoch number 3 val_auc is not increasing\n",
        "3.   As Epoch number increases, val_loss decreases\n",
        "\n",
        "\n",
        "\n",
        "\n",
        "\n"
      ],
      "metadata": {
        "id": "13sA6riOioBe"
      }
    },
    {
      "cell_type": "code",
      "source": [
        ""
      ],
      "metadata": {
        "id": "vcUTcx1PceBF"
      },
      "execution_count": null,
      "outputs": []
    },
    {
      "cell_type": "markdown",
      "metadata": {
        "id": "O1e2VaqfEEDE"
      },
      "source": [
        "<pre>\n",
        "<b>Model-3</b>\n",
        "<pre>\n",
        "1. Use relu as an activation for every layer except output layer.\n",
        "2. use SGD with momentum as optimizer.\n",
        "3. use he_uniform() as initilizer.\n",
        "3. Analyze your output and training process. \n",
        "</pre>\n",
        "</pre>"
      ]
    },
    {
      "cell_type": "code",
      "metadata": {
        "id": "N2M4q3LYEF_1",
        "colab": {
          "base_uri": "https://localhost:8080/"
        },
        "outputId": "23315f05-822d-4f3d-9456-29b4575d7d7c"
      },
      "source": [
        "#Input layer\n",
        "input_layer = Input(shape=(2,))\n",
        "#Dense hidden layer\n",
        "layer1 = Dense(5,activation='relu',kernel_initializer=tf.keras.initializers.he_uniform())(input_layer)\n",
        "#output layer\n",
        "output = Dense(1,activation='sigmoid',kernel_initializer=tf.keras.initializers.he_uniform())(layer1)\n",
        "#Creating a model\n",
        "model = Model(inputs=input_layer,outputs=output)\n",
        "\n",
        "lrschedule = LearningRateScheduler(changeLearningRate, verbose=0.1)\n",
        "filepath=\"D:\\Applied AI Course\\Assignments\\20. Assignment- Working with Callbacks\\model_save\"\n",
        "checkpoint = ModelCheckpoint(filepath=filepath, monitor='val_auc',  verbose=1, save_best_only=True, mode='max')\n",
        "earlystop = EarlyStopping(monitor='val_auc', patience=2, verbose=1, mode='max')\n",
        "\n",
        "# here we are creating a list with all the callbacks we want\n",
        "callback_list = [history_own,lrschedule, earlystop, checkpoint,terminate]\n",
        "\n",
        "optimizer = tf.keras.optimizers.SGD(learning_rate=0.01, momentum=0.0, nesterov=False, name=\"SGD\")\n",
        "\n",
        "model.compile(optimizer=optimizer, loss='BinaryCrossentropy',metrics=['AUC'])\n",
        "\n",
        "\n",
        "model.fit(X_train,y_train,epochs=20,validation_data=(X_test,y_test),batch_size=20,callbacks=[callback_list])"
      ],
      "execution_count": 31,
      "outputs": [
        {
          "output_type": "stream",
          "name": "stdout",
          "text": [
            "\n",
            "Epoch 00001: LearningRateScheduler setting learning rate to 0.01.\n",
            "Epoch 1/20\n",
            "660/670 [============================>.] - ETA: 0s - loss: 0.6996 - auc: 0.5056  f1_score: 0.5385\n",
            "\n",
            "Epoch 00001: val_auc improved from -inf to 0.57546, saving model to D:\\Applied AI Course\\Assignments\u0010. Assignment- Working with Callbacks\\model_save\n",
            "INFO:tensorflow:Assets written to: D:\\Applied AI Course\\Assignments\u0010. Assignment- Working with Callbacks\\model_save/assets\n",
            "670/670 [==============================] - 3s 4ms/step - loss: 0.6995 - auc: 0.5063 - val_loss: 0.6869 - val_auc: 0.5755 - lr: 0.0100\n",
            "\n",
            "Epoch 00002: LearningRateScheduler setting learning rate to 0.009000000000000001.\n",
            "Epoch 2/20\n",
            "669/670 [============================>.] - ETA: 0s - loss: 0.6846 - auc: 0.5844  f1_score: 0.5633\n",
            "\n",
            "Epoch 00002: val_auc improved from 0.57546 to 0.60760, saving model to D:\\Applied AI Course\\Assignments\u0010. Assignment- Working with Callbacks\\model_save\n",
            "INFO:tensorflow:Assets written to: D:\\Applied AI Course\\Assignments\u0010. Assignment- Working with Callbacks\\model_save/assets\n",
            "670/670 [==============================] - 2s 3ms/step - loss: 0.6846 - auc: 0.5844 - val_loss: 0.6811 - val_auc: 0.6076 - lr: 0.0090\n",
            "\n",
            "Epoch 00003: LearningRateScheduler setting learning rate to 0.008100000000000001.\n",
            "Epoch 3/20\n",
            "667/670 [============================>.] - ETA: 0s - loss: 0.6799 - auc: 0.6063  f1_score: 0.5773\n",
            "\n",
            "Epoch 00003: val_auc improved from 0.60760 to 0.61607, saving model to D:\\Applied AI Course\\Assignments\u0010. Assignment- Working with Callbacks\\model_save\n",
            "INFO:tensorflow:Assets written to: D:\\Applied AI Course\\Assignments\u0010. Assignment- Working with Callbacks\\model_save/assets\n",
            "670/670 [==============================] - 2s 3ms/step - loss: 0.6799 - auc: 0.6068 - val_loss: 0.6778 - val_auc: 0.6161 - lr: 0.0081\n",
            "\n",
            "Epoch 00004: LearningRateScheduler setting learning rate to 0.00857375.\n",
            "Epoch 4/20\n",
            "644/670 [===========================>..] - ETA: 0s - loss: 0.6766 - auc: 0.6145  f1_score: 0.5832\n",
            "\n",
            "Epoch 00004: val_auc improved from 0.61607 to 0.62013, saving model to D:\\Applied AI Course\\Assignments\u0010. Assignment- Working with Callbacks\\model_save\n",
            "INFO:tensorflow:Assets written to: D:\\Applied AI Course\\Assignments\u0010. Assignment- Working with Callbacks\\model_save/assets\n",
            "670/670 [==============================] - 2s 4ms/step - loss: 0.6766 - auc: 0.6141 - val_loss: 0.6752 - val_auc: 0.6201 - lr: 0.0086\n",
            "\n",
            "Epoch 00005: LearningRateScheduler setting learning rate to 0.006561.\n",
            "Epoch 5/20\n",
            "636/670 [===========================>..] - ETA: 0s - loss: 0.6743 - auc: 0.6194  f1_score: 0.5836\n",
            "\n",
            "Epoch 00005: val_auc improved from 0.62013 to 0.62263, saving model to D:\\Applied AI Course\\Assignments\u0010. Assignment- Working with Callbacks\\model_save\n",
            "INFO:tensorflow:Assets written to: D:\\Applied AI Course\\Assignments\u0010. Assignment- Working with Callbacks\\model_save/assets\n",
            "670/670 [==============================] - 2s 4ms/step - loss: 0.6743 - auc: 0.6193 - val_loss: 0.6736 - val_auc: 0.6226 - lr: 0.0066\n",
            "\n",
            "Epoch 00006: LearningRateScheduler setting learning rate to 0.005904900000000001.\n",
            "Epoch 6/20\n",
            "659/670 [============================>.] - ETA: 0s - loss: 0.6728 - auc: 0.6219  f1_score: 0.5844\n",
            "\n",
            "Epoch 00006: val_auc improved from 0.62263 to 0.62572, saving model to D:\\Applied AI Course\\Assignments\u0010. Assignment- Working with Callbacks\\model_save\n",
            "INFO:tensorflow:Assets written to: D:\\Applied AI Course\\Assignments\u0010. Assignment- Working with Callbacks\\model_save/assets\n",
            "670/670 [==============================] - 2s 3ms/step - loss: 0.6727 - auc: 0.6225 - val_loss: 0.6722 - val_auc: 0.6257 - lr: 0.0059\n",
            "\n",
            "Epoch 00007: LearningRateScheduler setting learning rate to 0.007350918906249998.\n",
            "Epoch 7/20\n",
            "642/670 [===========================>..] - ETA: 0s - loss: 0.6712 - auc: 0.6262  f1_score: 0.5906\n",
            "\n",
            "Epoch 00007: val_auc improved from 0.62572 to 0.62965, saving model to D:\\Applied AI Course\\Assignments\u0010. Assignment- Working with Callbacks\\model_save\n",
            "INFO:tensorflow:Assets written to: D:\\Applied AI Course\\Assignments\u0010. Assignment- Working with Callbacks\\model_save/assets\n",
            "670/670 [==============================] - 2s 3ms/step - loss: 0.6711 - auc: 0.6263 - val_loss: 0.6706 - val_auc: 0.6296 - lr: 0.0074\n",
            "\n",
            "Epoch 00008: LearningRateScheduler setting learning rate to 0.004782969000000001.\n",
            "Epoch 8/20\n",
            "651/670 [============================>.] - ETA: 0s - loss: 0.6693 - auc: 0.6309  f1_score: 0.5930\n",
            "\n",
            "Epoch 00008: val_auc improved from 0.62965 to 0.63215, saving model to D:\\Applied AI Course\\Assignments\u0010. Assignment- Working with Callbacks\\model_save\n",
            "INFO:tensorflow:Assets written to: D:\\Applied AI Course\\Assignments\u0010. Assignment- Working with Callbacks\\model_save/assets\n",
            "670/670 [==============================] - 2s 3ms/step - loss: 0.6696 - auc: 0.6298 - val_loss: 0.6695 - val_auc: 0.6322 - lr: 0.0048\n",
            "\n",
            "Epoch 00009: LearningRateScheduler setting learning rate to 0.004304672100000001.\n",
            "Epoch 9/20\n",
            "663/670 [============================>.] - ETA: 0s - loss: 0.6686 - auc: 0.6332  f1_score: 0.5947\n",
            "\n",
            "Epoch 00009: val_auc improved from 0.63215 to 0.63469, saving model to D:\\Applied AI Course\\Assignments\u0010. Assignment- Working with Callbacks\\model_save\n",
            "INFO:tensorflow:Assets written to: D:\\Applied AI Course\\Assignments\u0010. Assignment- Working with Callbacks\\model_save/assets\n",
            "670/670 [==============================] - 2s 3ms/step - loss: 0.6686 - auc: 0.6334 - val_loss: 0.6686 - val_auc: 0.6347 - lr: 0.0043\n",
            "\n",
            "Epoch 00010: LearningRateScheduler setting learning rate to 0.006302494097246091.\n",
            "Epoch 10/20\n",
            "639/670 [===========================>..] - ETA: 0s - loss: 0.6675 - auc: 0.6361  f1_score: 0.6008\n",
            "\n",
            "Epoch 00010: val_auc improved from 0.63469 to 0.63868, saving model to D:\\Applied AI Course\\Assignments\u0010. Assignment- Working with Callbacks\\model_save\n",
            "INFO:tensorflow:Assets written to: D:\\Applied AI Course\\Assignments\u0010. Assignment- Working with Callbacks\\model_save/assets\n",
            "670/670 [==============================] - 2s 3ms/step - loss: 0.6674 - auc: 0.6364 - val_loss: 0.6672 - val_auc: 0.6387 - lr: 0.0063\n",
            "\n",
            "Epoch 00011: LearningRateScheduler setting learning rate to 0.003486784401000001.\n",
            "Epoch 11/20\n",
            "660/670 [============================>.] - ETA: 0s - loss: 0.6665 - auc: 0.6389  f1_score: 0.6041\n",
            "\n",
            "Epoch 00011: val_auc improved from 0.63868 to 0.64103, saving model to D:\\Applied AI Course\\Assignments\u0010. Assignment- Working with Callbacks\\model_save\n",
            "INFO:tensorflow:Assets written to: D:\\Applied AI Course\\Assignments\u0010. Assignment- Working with Callbacks\\model_save/assets\n",
            "670/670 [==============================] - 2s 3ms/step - loss: 0.6662 - auc: 0.6400 - val_loss: 0.6664 - val_auc: 0.6410 - lr: 0.0035\n",
            "\n",
            "Epoch 00012: LearningRateScheduler setting learning rate to 0.0031381059609000006.\n",
            "Epoch 12/20\n",
            "655/670 [============================>.] - ETA: 0s - loss: 0.6656 - auc: 0.6414  f1_score: 0.6062\n",
            "\n",
            "Epoch 00012: val_auc improved from 0.64103 to 0.64359, saving model to D:\\Applied AI Course\\Assignments\u0010. Assignment- Working with Callbacks\\model_save\n",
            "INFO:tensorflow:Assets written to: D:\\Applied AI Course\\Assignments\u0010. Assignment- Working with Callbacks\\model_save/assets\n",
            "670/670 [==============================] - 3s 4ms/step - loss: 0.6654 - auc: 0.6423 - val_loss: 0.6657 - val_auc: 0.6436 - lr: 0.0031\n",
            "\n",
            "Epoch 00013: LearningRateScheduler setting learning rate to 0.005403600876626367.\n",
            "Epoch 13/20\n",
            "651/670 [============================>.] - ETA: 0s - loss: 0.6644 - auc: 0.6457  f1_score: 0.6105\n",
            "\n",
            "Epoch 00013: val_auc improved from 0.64359 to 0.64768, saving model to D:\\Applied AI Course\\Assignments\u0010. Assignment- Working with Callbacks\\model_save\n",
            "INFO:tensorflow:Assets written to: D:\\Applied AI Course\\Assignments\u0010. Assignment- Working with Callbacks\\model_save/assets\n",
            "670/670 [==============================] - 2s 3ms/step - loss: 0.6643 - auc: 0.6460 - val_loss: 0.6642 - val_auc: 0.6477 - lr: 0.0054\n",
            "\n",
            "Epoch 00014: LearningRateScheduler setting learning rate to 0.002541865828329001.\n",
            "Epoch 14/20\n",
            "660/670 [============================>.] - ETA: 0s - loss: 0.6633 - auc: 0.6493  f1_score: 0.6129\n",
            "\n",
            "Epoch 00014: val_auc improved from 0.64768 to 0.64970, saving model to D:\\Applied AI Course\\Assignments\u0010. Assignment- Working with Callbacks\\model_save\n",
            "INFO:tensorflow:Assets written to: D:\\Applied AI Course\\Assignments\u0010. Assignment- Working with Callbacks\\model_save/assets\n",
            "670/670 [==============================] - 2s 3ms/step - loss: 0.6632 - auc: 0.6494 - val_loss: 0.6635 - val_auc: 0.6497 - lr: 0.0025\n",
            "\n",
            "Epoch 00015: LearningRateScheduler setting learning rate to 0.002287679245496101.\n",
            "Epoch 15/20\n",
            "655/670 [============================>.] - ETA: 0s - loss: 0.6621 - auc: 0.6526  f1_score: 0.6136\n",
            "\n",
            "Epoch 00015: val_auc improved from 0.64970 to 0.65191, saving model to D:\\Applied AI Course\\Assignments\u0010. Assignment- Working with Callbacks\\model_save\n",
            "INFO:tensorflow:Assets written to: D:\\Applied AI Course\\Assignments\u0010. Assignment- Working with Callbacks\\model_save/assets\n",
            "670/670 [==============================] - 2s 4ms/step - loss: 0.6625 - auc: 0.6514 - val_loss: 0.6628 - val_auc: 0.6519 - lr: 0.0023\n",
            "\n",
            "Epoch 00016: LearningRateScheduler setting learning rate to 0.00463291230159753.\n",
            "Epoch 16/20\n",
            "661/670 [============================>.] - ETA: 0s - loss: 0.6616 - auc: 0.6542  f1_score: 0.6186\n",
            "\n",
            "Epoch 00016: val_auc improved from 0.65191 to 0.65601, saving model to D:\\Applied AI Course\\Assignments\u0010. Assignment- Working with Callbacks\\model_save\n",
            "INFO:tensorflow:Assets written to: D:\\Applied AI Course\\Assignments\u0010. Assignment- Working with Callbacks\\model_save/assets\n",
            "670/670 [==============================] - 2s 3ms/step - loss: 0.6615 - auc: 0.6544 - val_loss: 0.6614 - val_auc: 0.6560 - lr: 0.0046\n",
            "\n",
            "Epoch 00017: LearningRateScheduler setting learning rate to 0.0018530201888518416.\n",
            "Epoch 17/20\n",
            "660/670 [============================>.] - ETA: 0s - loss: 0.6603 - auc: 0.6580  f1_score: 0.6200\n",
            "\n",
            "Epoch 00017: val_auc improved from 0.65601 to 0.65775, saving model to D:\\Applied AI Course\\Assignments\u0010. Assignment- Working with Callbacks\\model_save\n",
            "INFO:tensorflow:Assets written to: D:\\Applied AI Course\\Assignments\u0010. Assignment- Working with Callbacks\\model_save/assets\n",
            "670/670 [==============================] - 2s 4ms/step - loss: 0.6604 - auc: 0.6577 - val_loss: 0.6608 - val_auc: 0.6577 - lr: 0.0019\n",
            "\n",
            "Epoch 00018: LearningRateScheduler setting learning rate to 0.0016677181699666576.\n",
            "Epoch 18/20\n",
            "651/670 [============================>.] - ETA: 0s - loss: 0.6599 - auc: 0.6596  f1_score: 0.6211\n",
            "\n",
            "Epoch 00018: val_auc improved from 0.65775 to 0.65930, saving model to D:\\Applied AI Course\\Assignments\u0010. Assignment- Working with Callbacks\\model_save\n",
            "INFO:tensorflow:Assets written to: D:\\Applied AI Course\\Assignments\u0010. Assignment- Working with Callbacks\\model_save/assets\n",
            "670/670 [==============================] - 2s 3ms/step - loss: 0.6599 - auc: 0.6593 - val_loss: 0.6602 - val_auc: 0.6593 - lr: 0.0017\n",
            "\n",
            "Epoch 00019: LearningRateScheduler setting learning rate to 0.003972143184582182.\n",
            "Epoch 19/20\n",
            "669/670 [============================>.] - ETA: 0s - loss: 0.6591 - auc: 0.6616  f1_score: 0.6229\n",
            "\n",
            "Epoch 00019: val_auc improved from 0.65930 to 0.66312, saving model to D:\\Applied AI Course\\Assignments\u0010. Assignment- Working with Callbacks\\model_save\n",
            "INFO:tensorflow:Assets written to: D:\\Applied AI Course\\Assignments\u0010. Assignment- Working with Callbacks\\model_save/assets\n",
            "670/670 [==============================] - 2s 3ms/step - loss: 0.6590 - auc: 0.6619 - val_loss: 0.6589 - val_auc: 0.6631 - lr: 0.0040\n",
            "\n",
            "Epoch 00020: LearningRateScheduler setting learning rate to 0.0013508517176729928.\n",
            "Epoch 20/20\n",
            "658/670 [============================>.] - ETA: 0s - loss: 0.6580 - auc: 0.6652  f1_score: 0.6244\n",
            "\n",
            "Epoch 00020: val_auc improved from 0.66312 to 0.66447, saving model to D:\\Applied AI Course\\Assignments\u0010. Assignment- Working with Callbacks\\model_save\n",
            "INFO:tensorflow:Assets written to: D:\\Applied AI Course\\Assignments\u0010. Assignment- Working with Callbacks\\model_save/assets\n",
            "670/670 [==============================] - 3s 5ms/step - loss: 0.6581 - auc: 0.6650 - val_loss: 0.6584 - val_auc: 0.6645 - lr: 0.0014\n"
          ]
        },
        {
          "output_type": "execute_result",
          "data": {
            "text/plain": [
              "<keras.callbacks.History at 0x7fad0e4cb390>"
            ]
          },
          "metadata": {},
          "execution_count": 31
        }
      ]
    },
    {
      "cell_type": "markdown",
      "source": [
        "***Model 3 Observations:***\n",
        "\n",
        "1.   Epoch No. 20 given Maximum F1 Score: 0.6244 & val_auc= 0.6645\n",
        "2.   Initially, as epoch number increases, val_auc is also increases\n",
        "3.   As Epoch number increases, val_loss decreases\n"
      ],
      "metadata": {
        "id": "4DyGcG0di87R"
      }
    },
    {
      "cell_type": "code",
      "metadata": {
        "id": "WOaQiRbZEGDU"
      },
      "source": [
        ""
      ],
      "execution_count": null,
      "outputs": []
    },
    {
      "cell_type": "markdown",
      "metadata": {
        "id": "w41Y3TFENCXk"
      },
      "source": [
        "\n",
        "\n",
        "\n",
        "<pre>\n",
        "<b>Model-4</b>\n",
        "<pre>\n",
        "1. Try with any values to get better accuracy/f1 score.  \n",
        "</pre>\n",
        "</pre>"
      ]
    },
    {
      "cell_type": "code",
      "metadata": {
        "id": "4agdXzB-DqOj",
        "colab": {
          "base_uri": "https://localhost:8080/"
        },
        "outputId": "3a006a8d-a4c1-4320-f6ff-1b01e927dde1"
      },
      "source": [
        "#Input layer\n",
        "input_layer = Input(shape=(2,))\n",
        "#Dense hidden layer\n",
        "layer1 = Dense(5,activation='selu',kernel_initializer=tf.keras.initializers.he_uniform())(input_layer)\n",
        "#output layer\n",
        "output = Dense(1,activation='sigmoid',kernel_initializer=tf.keras.initializers.he_uniform())(layer1)\n",
        "#Creating a model\n",
        "model = Model(inputs=input_layer,outputs=output)\n",
        "\n",
        "lrschedule = LearningRateScheduler(changeLearningRate, verbose=0.1)\n",
        "filepath=\"D:\\Applied AI Course\\Assignments\\20. Assignment- Working with Callbacks\\model_save\"\n",
        "checkpoint = ModelCheckpoint(filepath=filepath, monitor='val_auc',  verbose=1, save_best_only=True, mode='max')\n",
        "earlystop = EarlyStopping(monitor='val_auc', patience=2, verbose=1, mode='max')\n",
        "\n",
        "# here we are creating a list with all the callbacks we want\n",
        "callback_list = [history_own,lrschedule, earlystop, checkpoint,terminate]\n",
        "\n",
        "optimizer = tf.keras.optimizers.SGD(learning_rate=0.01, momentum=0.0, nesterov=False, name=\"SGD\")\n",
        "\n",
        "model.compile(optimizer=optimizer, loss='BinaryCrossentropy',metrics=['AUC'])\n",
        "\n",
        "\n",
        "model.fit(X_train,y_train,epochs=20,validation_data=(X_test,y_test),batch_size=20,callbacks=[callback_list])"
      ],
      "execution_count": 32,
      "outputs": [
        {
          "output_type": "stream",
          "name": "stdout",
          "text": [
            "\n",
            "Epoch 00001: LearningRateScheduler setting learning rate to 0.01.\n",
            "Epoch 1/20\n",
            "636/670 [===========================>..] - ETA: 0s - loss: 0.6953 - auc: 0.5119  f1_score: 0.5620\n",
            "\n",
            "Epoch 00001: val_auc improved from -inf to 0.57145, saving model to D:\\Applied AI Course\\Assignments\u0010. Assignment- Working with Callbacks\\model_save\n",
            "INFO:tensorflow:Assets written to: D:\\Applied AI Course\\Assignments\u0010. Assignment- Working with Callbacks\\model_save/assets\n",
            "670/670 [==============================] - 3s 4ms/step - loss: 0.6951 - auc: 0.5130 - val_loss: 0.6902 - val_auc: 0.5714 - lr: 0.0100\n",
            "\n",
            "Epoch 00002: LearningRateScheduler setting learning rate to 0.009000000000000001.\n",
            "Epoch 2/20\n",
            "649/670 [============================>.] - ETA: 0s - loss: 0.6889 - auc: 0.5763  f1_score: 0.5686\n",
            "\n",
            "Epoch 00002: val_auc improved from 0.57145 to 0.61152, saving model to D:\\Applied AI Course\\Assignments\u0010. Assignment- Working with Callbacks\\model_save\n",
            "INFO:tensorflow:Assets written to: D:\\Applied AI Course\\Assignments\u0010. Assignment- Working with Callbacks\\model_save/assets\n",
            "670/670 [==============================] - 2s 4ms/step - loss: 0.6891 - auc: 0.5749 - val_loss: 0.6881 - val_auc: 0.6115 - lr: 0.0090\n",
            "\n",
            "Epoch 00003: LearningRateScheduler setting learning rate to 0.008100000000000001.\n",
            "Epoch 3/20\n",
            "658/670 [============================>.] - ETA: 0s - loss: 0.6866 - auc: 0.5949  f1_score: 0.5811\n",
            "\n",
            "Epoch 00003: val_auc did not improve from 0.61152\n",
            "670/670 [==============================] - 2s 2ms/step - loss: 0.6865 - auc: 0.5961 - val_loss: 0.6867 - val_auc: 0.6049 - lr: 0.0081\n",
            "\n",
            "Epoch 00004: LearningRateScheduler setting learning rate to 0.00857375.\n",
            "Epoch 4/20\n",
            "653/670 [============================>.] - ETA: 0s - loss: 0.6846 - auc: 0.6118  f1_score: 0.5892\n",
            "\n",
            "Epoch 00004: val_auc improved from 0.61152 to 0.61500, saving model to D:\\Applied AI Course\\Assignments\u0010. Assignment- Working with Callbacks\\model_save\n",
            "INFO:tensorflow:Assets written to: D:\\Applied AI Course\\Assignments\u0010. Assignment- Working with Callbacks\\model_save/assets\n",
            "670/670 [==============================] - 2s 3ms/step - loss: 0.6846 - auc: 0.6112 - val_loss: 0.6843 - val_auc: 0.6150 - lr: 0.0086\n",
            "\n",
            "Epoch 00005: LearningRateScheduler setting learning rate to 0.006561.\n",
            "Epoch 5/20\n",
            "669/670 [============================>.] - ETA: 0s - loss: 0.6827 - auc: 0.6170  f1_score: 0.5688\n",
            "\n",
            "Epoch 00005: val_auc did not improve from 0.61500\n",
            "670/670 [==============================] - 1s 2ms/step - loss: 0.6827 - auc: 0.6169 - val_loss: 0.6822 - val_auc: 0.6048 - lr: 0.0066\n",
            "\n",
            "Epoch 00006: LearningRateScheduler setting learning rate to 0.005904900000000001.\n",
            "Epoch 6/20\n",
            "666/670 [============================>.] - ETA: 0s - loss: 0.6815 - auc: 0.6173  f1_score: 0.5800\n",
            "\n",
            "Epoch 00006: val_auc did not improve from 0.61500\n",
            "670/670 [==============================] - 1s 2ms/step - loss: 0.6815 - auc: 0.6176 - val_loss: 0.6819 - val_auc: 0.6138 - lr: 0.0059\n",
            "Epoch 00006: early stopping\n"
          ]
        },
        {
          "output_type": "execute_result",
          "data": {
            "text/plain": [
              "<keras.callbacks.History at 0x7fad0e942850>"
            ]
          },
          "metadata": {},
          "execution_count": 32
        }
      ]
    },
    {
      "cell_type": "markdown",
      "source": [
        "***Model 4 Observations:***\n",
        "\n",
        "1.   Epoch No. 4 given Maximum F1 Score: 0.5892 & val_auc= 0.6150\n",
        "2.   As Epoch number increases, val_loss decreases\n",
        "\n"
      ],
      "metadata": {
        "id": "knZcIjlijABm"
      }
    }
  ]
}